{
 "cells": [
  {
   "cell_type": "markdown",
   "metadata": {},
   "source": [
    "## Python basics"
   ]
  },
  {
   "cell_type": "markdown",
   "metadata": {},
   "source": [
    "#### Jupyter notebooks"
   ]
  },
  {
   "cell_type": "markdown",
   "metadata": {},
   "source": [
    "What you are looking at is a Jupyter IPython notebook. <br> Contents are displayed and executed in cells. You can add cells with the **+** button or by selecting **Cell** in the menu bar above. <br>\n",
    "\n",
    "This cell is a **Markdown** cell. Markdown cells are used for any kind of text such as this text here. \n",
    "The cell type can be changed with the dropdown menu in the toolbar <br>\n",
    "The next cell is a **Code** cell: (press Shift+Enter to execute it)"
   ]
  },
  {
   "cell_type": "code",
   "execution_count": null,
   "metadata": {},
   "outputs": [],
   "source": [
    "# Code cells contain Python code\n",
    "# Use the # sign to insert comments into your code\n",
    "print(\"Hello, I'm a code cell. \\n You can execute me by pressing the 'Run' button above or by pressing Ctrl+Enter or Shift+Enter\")\n",
    "print(\"Any output produced by the code in a cell such as this 'print' statement is displayed below the cell by default\")"
   ]
  },
  {
   "cell_type": "markdown",
   "metadata": {},
   "source": [
    "**Jupyter notebooks are only one way of displaying and running Python code**. Some other useful tools or IDEs (integrated development environment) that are included in the Anaconda package that you downloaded are: <br>\n",
    "\n",
    "- **Spyder**\n",
    "Good for scientific applications. The GUI is very similar to MATLAB (e.g Spyder also has a variable explorer and a command window that you can use as a sophisticated calculator)\n",
    "- **Qt console**\n",
    "Python console, comparable to the command window in MATLAB.\n",
    "\n",
    "Jupyter notebooks are very useful if you have things to describe and display (e.g. plots, tables)"
   ]
  },
  {
   "cell_type": "markdown",
   "metadata": {},
   "source": [
    "## Some basic code"
   ]
  },
  {
   "cell_type": "markdown",
   "metadata": {},
   "source": [
    "Python is organized in **Packages** or **Modules**. You can think of these like a Toolbox in MATLAB. Packages extend the functionality of the basic library that comes with bare Python. Like with MATLAB, you need some toolboxes/packages to do most of the interesting things. For this tutorial, we won't use any packages. <br>\n",
    "\n",
    "**Here are a few examples of things bare Python provides:**"
   ]
  },
  {
   "cell_type": "code",
   "execution_count": null,
   "metadata": {},
   "outputs": [],
   "source": [
    "# Arithmetic operations between numbers\n",
    "a = 5 + 4.3\n",
    "print(a)\n",
    "a = a / 3\n",
    "print(a)"
   ]
  },
  {
   "cell_type": "code",
   "execution_count": null,
   "metadata": {},
   "outputs": [],
   "source": [
    "print(a)\n",
    "a += 1 # Equivalent to a = a + 1\n",
    "print(a)\n",
    "a *= 2 # Equivalent to a = a * 2\n",
    "print(a)\n",
    "a /= 4\n",
    "print(a)"
   ]
  },
  {
   "cell_type": "code",
   "execution_count": null,
   "metadata": {},
   "outputs": [],
   "source": [
    "b = 4.3\n",
    "# Python built-in functions are highlighted in green\n",
    "# This one shows the type of the object (objects are what you would call a \"Variable\" in MATLAB)\n",
    "type(b)"
   ]
  },
  {
   "cell_type": "code",
   "execution_count": null,
   "metadata": {},
   "outputs": [],
   "source": [
    "# Absolute value\n",
    "abs(-3.2)"
   ]
  },
  {
   "cell_type": "code",
   "execution_count": null,
   "metadata": {},
   "outputs": [],
   "source": [
    "# Evaluate a boolean expression\n",
    "b < 2"
   ]
  },
  {
   "cell_type": "code",
   "execution_count": null,
   "metadata": {},
   "outputs": [],
   "source": [
    "## If else statements"
   ]
  },
  {
   "cell_type": "code",
   "execution_count": null,
   "metadata": {},
   "outputs": [],
   "source": [
    "a = 1\n",
    "# If else statements\n",
    "\n",
    "if a > 0:\n",
    "    print(\"a is positive\")\n",
    "else:\n",
    "    print(\"a is negative or zero\")\n",
    "\n",
    "# You can invert boolean statements with the not keyword\n",
    "if not a > 0:\n",
    "    print(\"a is not positive\")\n",
    "else:\n",
    "    print(\"a is not negative or zero\")\n",
    "    \n",
    "# Alternatively you can use the inverse operator\n",
    "if ~(a > 0):\n",
    "    print(\"a is ~(not) positive\")\n",
    "elif a == 0:\n",
    "    print(\"a is zero\")\n",
    "else:\n",
    "    print(\"a is ~(not) negative or zero\")"
   ]
  },
  {
   "cell_type": "markdown",
   "metadata": {},
   "source": [
    "## For loops and lists"
   ]
  },
  {
   "cell_type": "code",
   "execution_count": null,
   "metadata": {},
   "outputs": [],
   "source": [
    "# For loops\n",
    "factorial = 1\n",
    "for i in [1,2,3,4]:\n",
    "    factorial *= i\n",
    "    print(\"{}! = {}\".format(i, factorial)) # This is a good way to format and print words (strings)\n",
    "\n",
    "print(\"These results were obtained by iterating though a {}\".format(type([1,2,3,4])))"
   ]
  },
  {
   "cell_type": "markdown",
   "metadata": {},
   "source": [
    "Lists (e.g. [1,2,3,4]) are useful when iterating in loops and many other things. <br>\n",
    "You could also implement a for loop similar to how you would do it in MATLAB or a language like C:"
   ]
  },
  {
   "cell_type": "code",
   "execution_count": null,
   "metadata": {},
   "outputs": [],
   "source": [
    "factorial = 1\n",
    "my_list = [1,2,3,4]\n",
    "for i in range(len(my_list)):    # Note the built-in functions 'len' and 'range'\n",
    "    factorial *= my_list[i]      # This is how you get an element from a list. Unlike MATLAB, indexing starts at 0\n",
    "    print(\"{}! = {}\".format(i, factorial)) # This is a good way to format and print words (strings)\n",
    "\n",
    "print(\"These results were obtained by iterating the index of a list\")"
   ]
  },
  {
   "cell_type": "markdown",
   "metadata": {},
   "source": [
    "In general, you should choose the first implementation. <br>\n",
    "\n",
    "**It is less complicated and easier to understand, especially for someone who might not know Python.** If you are like me, you might also think that it is the more intuitive way anyway. <br>\n",
    "\n",
    "More on this topic later."
   ]
  },
  {
   "cell_type": "markdown",
   "metadata": {},
   "source": [
    "## Tuples"
   ]
  },
  {
   "cell_type": "markdown",
   "metadata": {},
   "source": [
    "Tuples are similar to lists, with the significant difference that you can't modify the contents after creation"
   ]
  },
  {
   "cell_type": "code",
   "execution_count": null,
   "metadata": {},
   "outputs": [],
   "source": [
    "# I can do this with a list:\n",
    "li = [1, 2, 3]\n",
    "print(li)\n",
    "\n",
    "# Replace the second element with a new value\n",
    "li[1] = 99\n",
    "\n",
    "print(li)"
   ]
  },
  {
   "cell_type": "code",
   "execution_count": null,
   "metadata": {},
   "outputs": [],
   "source": [
    "# Trying the same with a tuple:\n",
    "tu = (1, 2, 3)\n",
    "print(tu)\n",
    "\n",
    "# You can access elements like with a list\n",
    "print(tu[1])\n",
    "\n",
    "# But you can't modify\n",
    "tu[1] = 99\n"
   ]
  },
  {
   "cell_type": "markdown",
   "metadata": {},
   "source": [
    "## Dictionaries"
   ]
  },
  {
   "cell_type": "markdown",
   "metadata": {},
   "source": [
    "I've mentioned list objects above. <br> Another very useful Python datatype is the **dictionary**. As the name implies, it translates stuff."
   ]
  },
  {
   "cell_type": "code",
   "execution_count": null,
   "metadata": {},
   "outputs": [],
   "source": [
    "country_dict = {'USA' :'Washington', 'Canada': 'Ottawa', 'China': 'Beijing'}\n",
    "country_dict['China']"
   ]
  },
  {
   "cell_type": "code",
   "execution_count": null,
   "metadata": {},
   "outputs": [],
   "source": [
    "# Another way of making dictionaries\n",
    "dict(USA='Washington', Canada='Ottawa', China='Beijing')"
   ]
  },
  {
   "cell_type": "markdown",
   "metadata": {},
   "source": [
    "In the examples here I used strings as entries in the dictionary, but you can actually use any kind of object. For example number, arrays or anything else really."
   ]
  },
  {
   "cell_type": "code",
   "execution_count": null,
   "metadata": {},
   "outputs": [],
   "source": [
    "another_dict = {5 :'five', 7: 'seven'}\n",
    "for key, value in another_dict.items():     # .items() is a special method that dictionaries have. \n",
    "                                            # It can be used to iterate through its values.  \n",
    "    print('{} = {}'.format(key, value))"
   ]
  },
  {
   "cell_type": "markdown",
   "metadata": {},
   "source": [
    "## Functions"
   ]
  },
  {
   "cell_type": "markdown",
   "metadata": {},
   "source": [
    "Let's write a function that we can use to calculate the value of Euler's number <br>\n",
    "We know that <br>\n",
    "\n",
    "$e^x = \\Sigma_{n=0}^\\inf \\frac{x^n}{n!}$ <br>\n",
    "\n",
    "You can use LaTex formatting in Markdown cells too!"
   ]
  },
  {
   "cell_type": "code",
   "execution_count": null,
   "metadata": {},
   "outputs": [],
   "source": [
    "# Defining a function that calculates a term in the sum\n",
    "def polynomial(x, n):\n",
    "    factorial = 1\n",
    "    for i in range(1,n+1):\n",
    "        factorial *= i\n",
    "    return x**n / factorial  # Exponent operator is **"
   ]
  },
  {
   "cell_type": "code",
   "execution_count": null,
   "metadata": {},
   "outputs": [],
   "source": [
    "e = 2.71828\n",
    "tolerance = 1e-5\n",
    "\n",
    "series_sum = 0\n",
    "x = 1 # We want e^1\n",
    "n = 0\n",
    "\n",
    "# Loop as long as the difference between the series sum and the actual value exceeds the tolerance\n",
    "while abs(series_sum - e) > tolerance:\n",
    "    series_sum += polynomial(x, n)\n",
    "    print(series_sum)\n",
    "    n += 1\n",
    "    \n",
    "print(\"{} terms of the Taylor expansion are needed to approximate Euler's number with {} accuracy\".format(n, tolerance))"
   ]
  },
  {
   "cell_type": "markdown",
   "metadata": {},
   "source": [
    "## Some remarks"
   ]
  },
  {
   "cell_type": "markdown",
   "metadata": {},
   "source": [
    "- There is much more to learn about the things shown here. For example, how do you add an entry to a existing dictionary? How do you remove an element from a list? Other than showing some basics I wanted to see if this was a good format for that kind of tutorial. **Let me know!**\n",
    "- The best way to learn Python (or any other language) in my opinion is to have a specific project in mind and learn by doing. Why not plot your data with Python the next time? (tutorial coming up)\n",
    "\n",
    "The **Zen of Python**. A funny poem that helps you write good code (run the cell below). "
   ]
  },
  {
   "cell_type": "code",
   "execution_count": null,
   "metadata": {},
   "outputs": [],
   "source": [
    "import this"
   ]
  },
  {
   "cell_type": "markdown",
   "metadata": {},
   "source": [
    "If we go back to the two possible implementations of the for loop (Python-style or MATLAB/C-style), the Zen of Python tells us that we should take the Python-style implementation because <br>\n",
    "\n",
    "**Readability counts**"
   ]
  },
  {
   "cell_type": "markdown",
   "metadata": {},
   "source": [
    "## Next tutorial: Data analysis basics and making plots"
   ]
  },
  {
   "cell_type": "code",
   "execution_count": null,
   "metadata": {},
   "outputs": [],
   "source": []
  }
 ],
 "metadata": {
  "kernelspec": {
   "display_name": "Python 3",
   "language": "python",
   "name": "python3"
  },
  "language_info": {
   "codemirror_mode": {
    "name": "ipython",
    "version": 3
   },
   "file_extension": ".py",
   "mimetype": "text/x-python",
   "name": "python",
   "nbconvert_exporter": "python",
   "pygments_lexer": "ipython3",
   "version": "3.7.4"
  }
 },
 "nbformat": 4,
 "nbformat_minor": 2
}
