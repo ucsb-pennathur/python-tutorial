{
 "cells": [
  {
   "cell_type": "markdown",
   "metadata": {},
   "source": [
    "## 2. Python basics: Plotting with matplotlib"
   ]
  },
  {
   "cell_type": "markdown",
   "metadata": {},
   "source": [
    "`matplotlib` is probably the most commonly used plotting library used in Python. <br>\n",
    "The `pyplot` interface was designed to give the user MATLAB-style plotting. So if you are familiar with MATLAB plotting this will be easy. <br>\n",
    "\n",
    "First, let's import the package"
   ]
  },
  {
   "cell_type": "code",
   "execution_count": null,
   "metadata": {},
   "outputs": [],
   "source": [
    "import matplotlib.pyplot as plt"
   ]
  },
  {
   "cell_type": "markdown",
   "metadata": {},
   "source": [
    "When using matplotlib in a Jupyter notebook you can choose the display mode. The `notebook` mode will create interactive plots (you can zoom, pan etc.) while the `inline` mode displays static images. We'll use the `notebook` mode for now."
   ]
  },
  {
   "cell_type": "code",
   "execution_count": null,
   "metadata": {},
   "outputs": [],
   "source": [
    "# Lines starting with % are jupyter notebook command. \n",
    "# These are only used here and won't have any use if you use for example Spyder\n",
    "%matplotlib notebook"
   ]
  },
  {
   "cell_type": "markdown",
   "metadata": {},
   "source": [
    "We're also going to need numpy to create some arrays to plot"
   ]
  },
  {
   "cell_type": "code",
   "execution_count": null,
   "metadata": {},
   "outputs": [],
   "source": [
    "import numpy as np"
   ]
  },
  {
   "cell_type": "markdown",
   "metadata": {},
   "source": [
    "## Object-oriented programming glossary"
   ]
  },
  {
   "cell_type": "markdown",
   "metadata": {},
   "source": [
    "You'll come across some notions that are specific to object-oriented programming in this tutorial (Python is object-oriented). So here's a quick glossary with the most important expressions\n",
    "\n",
    "- Class:  A blueprint for a data structure. The numpy.ndarray from last tutorial is a class for example.\n",
    "- Object: An implementation of class. You take the blueprint (the class definition) and you create an object.\n",
    "- Attribute: An attribute of an object. For example if you create an ndarray, its shape is an attribute\n",
    "- Method: This is a function that belongs to a class and its object.\n",
    "\n",
    "This sounds pretty abstract, so here's a simple example:"
   ]
  },
  {
   "cell_type": "code",
   "execution_count": null,
   "metadata": {},
   "outputs": [],
   "source": [
    "# You can use the blueprint to create an object. \n",
    "a = np.array([[2,3],[1,1]])\n",
    "# A is a object of type np.ndarray \n",
    "print(a, type(a))\n",
    "\n",
    "# a has attributes such as its shape\n",
    "print(a.shape)\n",
    "\n",
    "# a has methods that do something with the data, for example the method .sum() that computes the sum of all elements\n",
    "print(a.sum())"
   ]
  },
  {
   "cell_type": "markdown",
   "metadata": {},
   "source": [
    "You don't need to worry about the technical details here, this is mostly so that you know what the words mean"
   ]
  },
  {
   "cell_type": "markdown",
   "metadata": {},
   "source": [
    "## Basic plotting"
   ]
  },
  {
   "cell_type": "code",
   "execution_count": null,
   "metadata": {},
   "outputs": [],
   "source": [
    "# Other than the plt and np prefixes, this is exactly like MATLAB\n",
    "x = np.linspace(0, 10, 100)\n",
    "\n",
    "plt.figure()\n",
    "plt.plot(x, np.sin(x), '-')\n",
    "plt.plot(x, np.cos(x), '--');"
   ]
  },
  {
   "cell_type": "markdown",
   "metadata": {},
   "source": [
    "matplotlib was originally witten as an alternative for MATLAB users, so the syntax really is quite similar. Here's another exmple"
   ]
  },
  {
   "cell_type": "code",
   "execution_count": null,
   "metadata": {},
   "outputs": [],
   "source": [
    "plt.figure()  # create a plot figure\n",
    "\n",
    "# create the first of two panels and set current axis\n",
    "plt.subplot(2, 1, 1) # (rows, columns, panel number)\n",
    "plt.plot(x, np.sin(x))\n",
    "\n",
    "# create the second panel and set current axis\n",
    "plt.subplot(2, 1, 2)\n",
    "plt.plot(x, np.cos(x));"
   ]
  },
  {
   "cell_type": "markdown",
   "metadata": {},
   "source": [
    "**Customizing your plot**"
   ]
  },
  {
   "cell_type": "markdown",
   "metadata": {},
   "source": [
    "For the next examples, we will use the voltage and current transient of an RC circuit so that we have some more interesting data. <br>\n",
    "The voltage drop over a capacitor and the current is <br>\n",
    "\n",
    "$V(t) = V_0 ( 1 - e^\\frac{-t}{RC})$ <br>\n",
    "\n",
    "$I(t) = \\frac{V_0}{R} e^\\frac{-t}{RC}$"
   ]
  },
  {
   "cell_type": "code",
   "execution_count": null,
   "metadata": {},
   "outputs": [],
   "source": [
    "# Define some functions\n",
    "\n",
    "def v_capacitor(v0, R, C, t):\n",
    "    return v0*(1-np.exp(-t/(R*C)))\n",
    "\n",
    "def i_capacitor(v0, R, C, t):\n",
    "    return v0/R*np.exp(-t/(R*C))"
   ]
  },
  {
   "cell_type": "markdown",
   "metadata": {},
   "source": [
    "The parameters of the circuit:"
   ]
  },
  {
   "cell_type": "code",
   "execution_count": null,
   "metadata": {},
   "outputs": [],
   "source": [
    "R = 300e+3 # Ohms\n",
    "C = 2e-6 # Farads\n",
    "v0 = 10 # Volts"
   ]
  },
  {
   "cell_type": "markdown",
   "metadata": {},
   "source": [
    "Now let's plot voltage and current. Most of the commands below are again the exact same in MATLAB."
   ]
  },
  {
   "cell_type": "code",
   "execution_count": null,
   "metadata": {},
   "outputs": [],
   "source": [
    "t = np.linspace(0, 10, 100)\n",
    "\n",
    "plt.figure(figsize=(10,7))  # create a plot figure with a predefined size\n",
    "\n",
    "plt.subplot(2, 1, 1) \n",
    "# You can add some line specifications to the plot command\n",
    "plt.plot(t, v_capacitor(v0, R, C, t), color='b', linewidth=1.5, label='Cap. voltage') \n",
    "plt.xlabel('Time [s]')\n",
    "plt.ylabel('Voltage [V]')\n",
    "plt.grid(True)\n",
    "\n",
    "# create the second panel and set current axis\n",
    "plt.subplot(2, 1, 2)\n",
    "plt.plot(t, i_capacitor(v0, R, C, t), color='r', linewidth=1, label='Cap. current');\n",
    "plt.xlabel('Time [s]')\n",
    "plt.ylabel('Current [A]')\n",
    "plt.xticks(np.arange(11))\n",
    "plt.grid(True)\n",
    "\n",
    "# Show the legend. Each line has the label that was defined with the label keyword argument\n",
    "plt.legend()"
   ]
  },
  {
   "cell_type": "markdown",
   "metadata": {},
   "source": [
    "If you run an additional command now, it will update the figure in the cell above instead of displaying it again."
   ]
  },
  {
   "cell_type": "code",
   "execution_count": null,
   "metadata": {},
   "outputs": [],
   "source": [
    "# This adds some text to the current set of axes \n",
    "plt.text(3, 0.000015, \"R={}, C={}\".format(R, C))"
   ]
  },
  {
   "cell_type": "markdown",
   "metadata": {},
   "source": [
    "You can also make two different y axes with the `plt.twinx` function"
   ]
  },
  {
   "cell_type": "code",
   "execution_count": null,
   "metadata": {},
   "outputs": [],
   "source": [
    "plt.figure(figsize=(9,5))  # create a plot figure with a predefined size\n",
    "\n",
    "# You can add some line specifications to the plot command\n",
    "plt.plot(t, v_capacitor(v0, R, C, t), color='b', linewidth=1.5, label='Cap. voltage') \n",
    "plt.xlabel('Time [s]')\n",
    "plt.ylabel('Voltage [V]')\n",
    "plt.xticks(np.arange(11))\n",
    "plt.grid(True)\n",
    "plt.legend(loc='center right') # Display the legend for everything in the first set of axes\n",
    "plt.twinx()\n",
    "\n",
    "# create the second panel and set current axis\n",
    "plt.plot(t, i_capacitor(v0, R, C, t), color='r', linewidth=1, label='Cap. current');\n",
    "plt.ylabel('Current [A]')\n",
    "\n",
    "# Show the legend. Each line has the label that was defined with the label keyword argument\n",
    "plt.legend()"
   ]
  },
  {
   "cell_type": "markdown",
   "metadata": {},
   "source": [
    "For documentation and a list of available functions in the `matplotlib.pyplot` interface you can go to https://matplotlib.org/3.1.1/api/pyplot_summary.html"
   ]
  },
  {
   "cell_type": "markdown",
   "metadata": {},
   "source": [
    "## Using the object-oriented interface"
   ]
  },
  {
   "cell_type": "markdown",
   "metadata": {},
   "source": [
    "This MATLAB-style of plotting works fairly well and you can customize your plots to a good extent. However, these functions are always applied to the last set of axes that were active. This isn't always ideal, look at the legend of the plot above for example. Ideally, we'd like to have both lines in the same box at a nice location<br>\n",
    "Rather than depending on some notion of an \"active\" figure or axes, in the object-oriented interface the plotting functions are methods of explicit `Figure` and `Axes` objects"
   ]
  },
  {
   "cell_type": "code",
   "execution_count": null,
   "metadata": {
    "scrolled": true
   },
   "outputs": [],
   "source": [
    "# First create a grid of plots\n",
    "# ax will be an array of two Axes objects\n",
    "fig, ax = plt.subplots(nrows=2, ncols=1)\n",
    "\n",
    "# Call plot() method on the appropriate object\n",
    "ax[0].plot(x, np.sin(x))\n",
    "ax[1].plot(x, np.cos(x));\n",
    "\n",
    "# You access the individual suplots like an array.\n",
    "# E.g. if you have two rows and three columns (=6 subplots) and you want \n",
    "# the reference to the subplot in the seconds row and 3 column you'd write\n",
    "# ax[1,2]"
   ]
  },
  {
   "cell_type": "markdown",
   "metadata": {},
   "source": [
    "Personally, I prefer the object-oriented approach over the MATLAB-style syntax because I've found it to be much easier to get what I want and bugs seem easier to find. **Both are valid ways of making a plot, so it's up to you to find out what works better for you**"
   ]
  },
  {
   "cell_type": "markdown",
   "metadata": {},
   "source": [
    "For the more complex example with the voltage and current plots"
   ]
  },
  {
   "cell_type": "code",
   "execution_count": null,
   "metadata": {},
   "outputs": [],
   "source": [
    "fig = plt.figure(figsize=(9,5))  # create a plot figure with a predefined size\n",
    "ax = fig.add_subplot(1,1,1)      # Add a set of axes to this figure and get a reference to them\n",
    "\n",
    "ax.plot(t, v_capacitor(v0, R, C, t), color='b', linewidth=1.5, label='Cap. voltage') # You can also get a reference to a line\n",
    "ax.set_xlabel('Time [s]')\n",
    "ax.set_ylabel('Voltage [V]')\n",
    "ax.set_xticks(np.arange(11)) # Make x axis ticks every second [0, 1, 2, 3 ....]\n",
    "ax.grid(True)\n",
    "ax2 = ax.twinx()  # Create a second set of axes whose x axes is a twin of the x axes of the first set\n",
    "\n",
    "# create the second panel and set current axis\n",
    "ax2.plot(t, i_capacitor(v0, R, C, t), color='r', linestyle='-.', label='Cap. current');\n",
    "ax2.set_ylabel('Current [A]')\n",
    "ax2.set_ylim([-0.000005, 0.00002]) # Change the viewlimits of the axes\n",
    "\n",
    "# Instead of Amps, I'd like to have uA on the y axis\n",
    "ax2.set_yticklabels([round(tickvalue*1e6) for tickvalue in ax2.get_yticks()]) \n",
    "ax2.set_ylabel('Current [uA]')\n",
    "# The round built-in function is there to prevent labels like 14.99999999 or 19.99999 \n",
    "# These appear due to the limited precision of computers \n",
    "\n",
    "# Marking the time constant with a vertical line\n",
    "ax.axvline(R*C, color='k', linestyle=':', label='RC time const.')\n",
    "\n",
    "# Show the legend. Each line has the label that was defined with the label keyword argument\n",
    "fig.legend(loc='upper right', bbox_to_anchor=(-0.1, -0.2, 1, 1))\n",
    "fig.suptitle('Capacitor in RC circuit', fontsize=16)"
   ]
  },
  {
   "cell_type": "markdown",
   "metadata": {},
   "source": [
    "The figure can be saved as an image like this"
   ]
  },
  {
   "cell_type": "code",
   "execution_count": null,
   "metadata": {},
   "outputs": [],
   "source": [
    "# The image will appear in the folder where the notebook is located\n",
    "fig.savefig('testfigure.png', dpi=200)\n",
    "\n",
    "# plt.savefig() saves the active figure"
   ]
  },
  {
   "cell_type": "markdown",
   "metadata": {},
   "source": [
    "Some parts of this tutorial were inspired by this blog\n",
    "https://jakevdp.github.io/PythonDataScienceHandbook/04.00-introduction-to-matplotlib.html <br>\n",
    "Check it out if you want some more examples and more detailed explanations"
   ]
  },
  {
   "cell_type": "markdown",
   "metadata": {},
   "source": [
    "As you've seen, the Axes and Figure objects have many methods (`.plot`, `set_xlabel`, `set_ylabel`, `get_xticks()` etc.). You can check out the official documentation to have a list: <br>\n",
    "- Figure class: https://matplotlib.org/api/_as_gen/matplotlib.figure.Figure.html#matplotlib.figure.Figure\n",
    "- Axes class: https://matplotlib.org/api/axes_api.html#the-axes-class\n",
    "\n",
    "If you are looking for something and you know what the function is called in MATLAB, it might be named similarly in matplotlib. "
   ]
  },
  {
   "cell_type": "markdown",
   "metadata": {},
   "source": [
    "## Using Spyder to make plots\n",
    "\n",
    "If you want to replicate MATLAB as closely as possible you can also use Spyder to write a script that generates a plot. If you want to try this out\n",
    "\n",
    "1) open up Spyder and open the file `python_basics_matplotlib_2_spyder.py`.<br>\n",
    "2) Go to `Tools -> Preferences -> IPython console -> Graphics -> Graphics backend` and set this to `automatic`. This will open up plots in a seperate window like MATLAB <br>\n",
    "3) Run the script. A window with a plot in it should open <br>\n",
    "\n",
    "You can run any of the code in this tutorial in Spyder. **You can make your own scripts by saving the text files in Spyder as .py files. A .py file is the equivalent of a .m file for MATLAB**\n",
    "\n",
    "You can also use the console in the bottom right corner to enter commands line by line. <br>\n",
    "In the top right corner you should see a variable explorer. "
   ]
  },
  {
   "cell_type": "markdown",
   "metadata": {},
   "source": [
    "## Using matplotlib with images"
   ]
  },
  {
   "cell_type": "markdown",
   "metadata": {},
   "source": [
    "You can also use matplotlib to show images. There might be a speparate tutorial on image processing in the future. <br> Here are some brief examples:"
   ]
  },
  {
   "cell_type": "code",
   "execution_count": null,
   "metadata": {},
   "outputs": [],
   "source": [
    "test_image = plt.imread('resources/AlScN_surface.png')\n",
    "plt.figure()\n",
    "plt.imshow(test_image)\n",
    "plt.title('SEM image of the surface of a AlScN thin film')"
   ]
  },
  {
   "cell_type": "markdown",
   "metadata": {},
   "source": [
    "You can treat images like arrays, where the value in row n, col m corresponds to the color intensity of the pixel at position n, m. Each color channel corresponds to another dimensions in the array"
   ]
  },
  {
   "cell_type": "code",
   "execution_count": null,
   "metadata": {},
   "outputs": [],
   "source": [
    "print(type(test_image))\n",
    "print(test_image.shape)"
   ]
  },
  {
   "cell_type": "markdown",
   "metadata": {},
   "source": [
    "You can now make line plots to get for example fluorescence intensities or identify abnormal grains in this case"
   ]
  },
  {
   "cell_type": "code",
   "execution_count": null,
   "metadata": {},
   "outputs": [],
   "source": [
    "plt.figure()\n",
    "plt.plot(test_image[100,:, 2], label='Intensity')\n",
    "plt.legend()"
   ]
  },
  {
   "cell_type": "markdown",
   "metadata": {},
   "source": [
    "Do do any image-related operations (such as converting our 4 channel image to a one channel grayscale image, applying filters etc.) we'd use some other packages, so I won't go more into more detail. Just know that images can be treated like arrays and analyzed like one. **We could do the same thing with video files, which could be interesting for the analysis of the BPE experiments**"
   ]
  },
  {
   "cell_type": "markdown",
   "metadata": {},
   "source": [
    "## Next tutorial: pandas, a Python data analysis library\n",
    "which will enable us to use some actual data and process it"
   ]
  }
 ],
 "metadata": {
  "kernelspec": {
   "display_name": "ucsb",
   "language": "python",
   "name": "ucsb"
  },
  "language_info": {
   "codemirror_mode": {
    "name": "ipython",
    "version": 3
   },
   "file_extension": ".py",
   "mimetype": "text/x-python",
   "name": "python",
   "nbconvert_exporter": "python",
   "pygments_lexer": "ipython3",
   "version": "3.8.1"
  }
 },
 "nbformat": 4,
 "nbformat_minor": 2
}
